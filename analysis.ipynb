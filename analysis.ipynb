{
 "cells": [
  {
   "cell_type": "code",
   "execution_count": 27,
   "metadata": {},
   "outputs": [
    {
     "data": {
      "text/html": [
       "<div>\n",
       "<style scoped>\n",
       "    .dataframe tbody tr th:only-of-type {\n",
       "        vertical-align: middle;\n",
       "    }\n",
       "\n",
       "    .dataframe tbody tr th {\n",
       "        vertical-align: top;\n",
       "    }\n",
       "\n",
       "    .dataframe thead th {\n",
       "        text-align: right;\n",
       "    }\n",
       "</style>\n",
       "<table border=\"1\" class=\"dataframe\">\n",
       "  <thead>\n",
       "    <tr style=\"text-align: right;\">\n",
       "      <th></th>\n",
       "      <th>polo</th>\n",
       "      <th>nome</th>\n",
       "      <th>nascimento</th>\n",
       "      <th>cpf</th>\n",
       "      <th>inscrição</th>\n",
       "      <th>l por</th>\n",
       "      <th>l ing</th>\n",
       "      <th>mat</th>\n",
       "      <th>atu</th>\n",
       "      <th>conh bas</th>\n",
       "      <th>prob</th>\n",
       "      <th>c ban</th>\n",
       "      <th>tec</th>\n",
       "      <th>conh esp</th>\n",
       "      <th>pontos</th>\n",
       "      <th>class ac</th>\n",
       "      <th>class pcd</th>\n",
       "      <th>class ppp</th>\n",
       "      <th>situação final</th>\n",
       "    </tr>\n",
       "  </thead>\n",
       "  <tbody>\n",
       "    <tr>\n",
       "      <th>0</th>\n",
       "      <td>MACRORREGIÃO 10 - MICRORREGIÃO 16</td>\n",
       "      <td>ADELSON JHONATA SILVA DE SOUSA</td>\n",
       "      <td>30/09/1997</td>\n",
       "      <td>XXX.917.491-XX</td>\n",
       "      <td>01800352210</td>\n",
       "      <td>9.0</td>\n",
       "      <td>5.0</td>\n",
       "      <td>6.0</td>\n",
       "      <td>4.0</td>\n",
       "      <td>24.0</td>\n",
       "      <td>3.0</td>\n",
       "      <td>7.5</td>\n",
       "      <td>27.0</td>\n",
       "      <td>37.5</td>\n",
       "      <td>61.5</td>\n",
       "      <td>410</td>\n",
       "      <td>NaN</td>\n",
       "      <td>36</td>\n",
       "      <td>CLASSIFICADO</td>\n",
       "    </tr>\n",
       "    <tr>\n",
       "      <th>1</th>\n",
       "      <td>MACRORREGIÃO 10 - MICRORREGIÃO 16</td>\n",
       "      <td>ADERSON LUCAS MENDONCA E SILVA MEDEIROS</td>\n",
       "      <td>09/05/1985</td>\n",
       "      <td>XXX.494.124-XX</td>\n",
       "      <td>01800287469</td>\n",
       "      <td>10.5</td>\n",
       "      <td>5.0</td>\n",
       "      <td>7.5</td>\n",
       "      <td>5.0</td>\n",
       "      <td>28.0</td>\n",
       "      <td>6.0</td>\n",
       "      <td>6.0</td>\n",
       "      <td>24.0</td>\n",
       "      <td>36.0</td>\n",
       "      <td>64.0</td>\n",
       "      <td>312</td>\n",
       "      <td>NaN</td>\n",
       "      <td>NaN</td>\n",
       "      <td>CADASTRO-RESERVA</td>\n",
       "    </tr>\n",
       "    <tr>\n",
       "      <th>2</th>\n",
       "      <td>MACRORREGIÃO 10 - MICRORREGIÃO 16</td>\n",
       "      <td>ADRIANA DE FATIMA LOURENCON WATANABE</td>\n",
       "      <td>06/02/1981</td>\n",
       "      <td>XXX.251.678-XX</td>\n",
       "      <td>09700032960</td>\n",
       "      <td>12.0</td>\n",
       "      <td>3.0</td>\n",
       "      <td>7.5</td>\n",
       "      <td>4.0</td>\n",
       "      <td>26.5</td>\n",
       "      <td>4.5</td>\n",
       "      <td>4.5</td>\n",
       "      <td>33.0</td>\n",
       "      <td>42.0</td>\n",
       "      <td>68.5</td>\n",
       "      <td>151</td>\n",
       "      <td>NaN</td>\n",
       "      <td>NaN</td>\n",
       "      <td>CLASSIFICADO</td>\n",
       "    </tr>\n",
       "    <tr>\n",
       "      <th>3</th>\n",
       "      <td>MACRORREGIÃO 10 - MICRORREGIÃO 16</td>\n",
       "      <td>ADRIANO DUTRA DE DEUS FERREIRA</td>\n",
       "      <td>30/10/1989</td>\n",
       "      <td>XXX.432.111-XX</td>\n",
       "      <td>01800255982</td>\n",
       "      <td>13.5</td>\n",
       "      <td>3.0</td>\n",
       "      <td>7.5</td>\n",
       "      <td>4.0</td>\n",
       "      <td>28.0</td>\n",
       "      <td>4.5</td>\n",
       "      <td>6.0</td>\n",
       "      <td>28.5</td>\n",
       "      <td>39.0</td>\n",
       "      <td>67.0</td>\n",
       "      <td>203</td>\n",
       "      <td>NaN</td>\n",
       "      <td>NaN</td>\n",
       "      <td>CADASTRO-RESERVA</td>\n",
       "    </tr>\n",
       "    <tr>\n",
       "      <th>4</th>\n",
       "      <td>MACRORREGIÃO 10 - MICRORREGIÃO 16</td>\n",
       "      <td>ADRIELLE ALVES CARDOSO</td>\n",
       "      <td>11/05/1994</td>\n",
       "      <td>XXX.909.836-XX</td>\n",
       "      <td>03000544560</td>\n",
       "      <td>12.0</td>\n",
       "      <td>2.0</td>\n",
       "      <td>4.5</td>\n",
       "      <td>5.0</td>\n",
       "      <td>23.5</td>\n",
       "      <td>3.0</td>\n",
       "      <td>6.0</td>\n",
       "      <td>27.0</td>\n",
       "      <td>36.0</td>\n",
       "      <td>59.5</td>\n",
       "      <td>469</td>\n",
       "      <td>NaN</td>\n",
       "      <td>NaN</td>\n",
       "      <td>CADASTRO-RESERVA</td>\n",
       "    </tr>\n",
       "  </tbody>\n",
       "</table>\n",
       "</div>"
      ],
      "text/plain": [
       "                                polo                                     nome  \\\n",
       "0  MACRORREGIÃO 10 - MICRORREGIÃO 16           ADELSON JHONATA SILVA DE SOUSA   \n",
       "1  MACRORREGIÃO 10 - MICRORREGIÃO 16  ADERSON LUCAS MENDONCA E SILVA MEDEIROS   \n",
       "2  MACRORREGIÃO 10 - MICRORREGIÃO 16     ADRIANA DE FATIMA LOURENCON WATANABE   \n",
       "3  MACRORREGIÃO 10 - MICRORREGIÃO 16           ADRIANO DUTRA DE DEUS FERREIRA   \n",
       "4  MACRORREGIÃO 10 - MICRORREGIÃO 16                   ADRIELLE ALVES CARDOSO   \n",
       "\n",
       "   nascimento             cpf    inscrição l por l ing  mat  atu conh bas  \\\n",
       "0  30/09/1997  XXX.917.491-XX  01800352210   9.0   5.0  6.0  4.0     24.0   \n",
       "1  09/05/1985  XXX.494.124-XX  01800287469  10.5   5.0  7.5  5.0     28.0   \n",
       "2  06/02/1981  XXX.251.678-XX  09700032960  12.0   3.0  7.5  4.0     26.5   \n",
       "3  30/10/1989  XXX.432.111-XX  01800255982  13.5   3.0  7.5  4.0     28.0   \n",
       "4  11/05/1994  XXX.909.836-XX  03000544560  12.0   2.0  4.5  5.0     23.5   \n",
       "\n",
       "  prob c ban   tec conh esp pontos class ac class pcd class ppp  \\\n",
       "0  3.0   7.5  27.0     37.5   61.5      410       NaN        36   \n",
       "1  6.0   6.0  24.0     36.0   64.0      312       NaN       NaN   \n",
       "2  4.5   4.5  33.0     42.0   68.5      151       NaN       NaN   \n",
       "3  4.5   6.0  28.5     39.0   67.0      203       NaN       NaN   \n",
       "4  3.0   6.0  27.0     36.0   59.5      469       NaN       NaN   \n",
       "\n",
       "     situação final  \n",
       "0      CLASSIFICADO  \n",
       "1  CADASTRO-RESERVA  \n",
       "2      CLASSIFICADO  \n",
       "3  CADASTRO-RESERVA  \n",
       "4  CADASTRO-RESERVA  "
      ]
     },
     "execution_count": 27,
     "metadata": {},
     "output_type": "execute_result"
    }
   ],
   "source": [
    "import pandas as pd\n",
    "\n",
    "df = pd.read_csv(\"aprovados.csv\",)\n",
    "\n",
    "for col in df:\n",
    "    df[col] = df[col].str.replace(',', '.')\n",
    "\n",
    "df.head()"
   ]
  },
  {
   "cell_type": "code",
   "execution_count": 38,
   "metadata": {},
   "outputs": [],
   "source": [
    "df = df.drop(df.query(\"polo == 'polo'\").index)"
   ]
  },
  {
   "cell_type": "code",
   "execution_count": 40,
   "metadata": {},
   "outputs": [
    {
     "name": "stdout",
     "output_type": "stream",
     "text": [
      "<class 'pandas.core.frame.DataFrame'>\n",
      "Int64Index: 480 entries, 0 to 486\n",
      "Data columns (total 19 columns):\n",
      " #   Column          Non-Null Count  Dtype  \n",
      "---  ------          --------------  -----  \n",
      " 0   polo            480 non-null    object \n",
      " 1   nome            480 non-null    object \n",
      " 2   nascimento      480 non-null    object \n",
      " 3   cpf             480 non-null    object \n",
      " 4   inscrição       480 non-null    int64  \n",
      " 5   l por           480 non-null    float64\n",
      " 6   l ing           480 non-null    float64\n",
      " 7   mat             480 non-null    float64\n",
      " 8   atu             480 non-null    float64\n",
      " 9   conh bas        480 non-null    float64\n",
      " 10  prob            480 non-null    float64\n",
      " 11  c ban           480 non-null    float64\n",
      " 12  tec             480 non-null    float64\n",
      " 13  conh esp        480 non-null    float64\n",
      " 14  pontos          480 non-null    float64\n",
      " 15  class ac        480 non-null    int64  \n",
      " 16  class pcd       8 non-null      float64\n",
      " 17  class ppp       52 non-null     float64\n",
      " 18  situação final  480 non-null    object \n",
      "dtypes: float64(12), int64(2), object(5)\n",
      "memory usage: 75.0+ KB\n"
     ]
    }
   ],
   "source": [
    "df = df.apply(pd.to_numeric, errors=\"ignore\")\n",
    "df.info()"
   ]
  },
  {
   "cell_type": "code",
   "execution_count": 55,
   "metadata": {},
   "outputs": [
    {
     "data": {
      "text/plain": [
       "<AxesSubplot:>"
      ]
     },
     "execution_count": 55,
     "metadata": {},
     "output_type": "execute_result"
    },
    {
     "data": {
      "image/png": "[encoded data removed]",
      "text/plain": [
       "<Figure size 432x288 with 1 Axes>"
      ]
     },
     "metadata": {
      "needs_background": "light"
     },
     "output_type": "display_data"
    }
   ],
   "source": [
    "df.drop(['inscrição','class ac','class pcd', 'class ppp'], axis='columns').boxplot()"
   ]
  },
  {
   "cell_type": "code",
   "execution_count": null,
   "metadata": {},
   "outputs": [],
   "source": []
  }
 ],
 "metadata": {
  "interpreter": {
   "hash": "116020256c4623e2f011447c6a77d3c2b2aef2c59672cd89c2b90f246f067e8c"
  },
  "kernelspec": {
   "display_name": "Python 3.9.7 64-bit ('env': venv)",
   "language": "python",
   "name": "python3"
  },
  "language_info": {
   "codemirror_mode": {
    "name": "ipython",
    "version": 3
   },
   "file_extension": ".py",
   "mimetype": "text/x-python",
   "name": "python",
   "nbconvert_exporter": "python",
   "pygments_lexer": "ipython3",
   "version": "3.9.7"
  },
  "orig_nbformat": 4
 },
 "nbformat": 4,
 "nbformat_minor": 2
}
